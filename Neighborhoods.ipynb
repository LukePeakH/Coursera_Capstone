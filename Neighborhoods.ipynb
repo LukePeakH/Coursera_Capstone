{
 "cells": [
  {
   "cell_type": "markdown",
   "metadata": {},
   "source": [
    "# The Battle of Neighborhoods"
   ]
  },
  {
   "cell_type": "markdown",
   "metadata": {},
   "source": [
    "## Week 1"
   ]
  },
  {
   "cell_type": "markdown",
   "metadata": {},
   "source": [
    "##  Introduction/Business Problem"
   ]
  },
  {
   "cell_type": "markdown",
   "metadata": {},
   "source": [
    "### The Problem:"
   ]
  },
  {
   "cell_type": "markdown",
   "metadata": {},
   "source": [
    "What location in a given city offers the highest concentration of restaurants catering to the worlds healthiest diets?"
   ]
  },
  {
   "cell_type": "markdown",
   "metadata": {},
   "source": [
    "The healthiest diets as discussed in the book \"The Blue Zones Solution\" by Dan Buettner defines the healthiest diets based on their effects on the body and longevity in age."
   ]
  },
  {
   "cell_type": "markdown",
   "metadata": {},
   "source": [
    "The healthiest diets are often correlated with an active lifestyle that requires daily movement. However for this exercise we are focusing just on the food aspect."
   ]
  },
  {
   "cell_type": "markdown",
   "metadata": {},
   "source": [
    "The diets tend to schedule the consumption of various foods daily, weekly and monthly."
   ]
  },
  {
   "cell_type": "markdown",
   "metadata": {},
   "source": [
    "The daily consumption usually includes; whole grains, fruit, legumes/nuts, vegetables and oils like olive oil."
   ]
  },
  {
   "cell_type": "markdown",
   "metadata": {},
   "source": [
    "The weekly consumption includes; fish & seafood, poultry, eggs and sometimes sugar sweets"
   ]
  },
  {
   "cell_type": "markdown",
   "metadata": {},
   "source": [
    "The monthly consumption sometimes includes; other red meat products."
   ]
  },
  {
   "cell_type": "markdown",
   "metadata": {},
   "source": [
    "### Parameters:"
   ]
  },
  {
   "cell_type": "markdown",
   "metadata": {},
   "source": [
    "The healthiest diets will be defined as;\n",
    "1. Mediterranean - Greek, \n",
    "2. Mediterranean - Sardinian / Italian (ex Pizza),\n",
    "3. Japanese, \n",
    "4. Pescetarian / Vegetarian"
   ]
  },
  {
   "cell_type": "markdown",
   "metadata": {},
   "source": [
    "The location for the pilot will be: Toronto, Canada"
   ]
  },
  {
   "cell_type": "markdown",
   "metadata": {},
   "source": [
    "A cluster will need meet the following criteria to be included in the output;\n",
    "\n",
    "1. At least one restaurant from the four healthiest diets, unless only one cluster is found\n",
    "\n",
    "2. No cluster can have more than 50% from one type of restaurant, promoting diversity and choice\n",
    "\n",
    "3. The cluster radius will be limited to 1000 meters unless only one cluster is found\n",
    "\n",
    "4. The clusters will be ranked based on cluster size-weighted restaurant likes"
   ]
  },
  {
   "cell_type": "markdown",
   "metadata": {},
   "source": [
    "## The Data"
   ]
  },
  {
   "cell_type": "markdown",
   "metadata": {},
   "source": [
    "The location data will be limited to Toronto, Canada."
   ]
  },
  {
   "cell_type": "markdown",
   "metadata": {},
   "source": [
    "The source of the Toronto neighborhood data will be Wikipedia: 'https://en.wikipedia.org/wiki/List_of_postal_codes_of_Canada:_M'"
   ]
  },
  {
   "cell_type": "markdown",
   "metadata": {},
   "source": [
    "The source of the Toronto Latitude and Longitude data will be: 'https://cocl.us/Geospatial_data'"
   ]
  },
  {
   "cell_type": "markdown",
   "metadata": {},
   "source": [
    "The restaurant data will be sourced from FourSquare;\n",
    "\n",
    "1. GET https://api.foursquare.com/v2/venues/search\n",
    "\n",
    "2. GET https://api.foursquare.com/v2/venues/VENUE_ID/likes"
   ]
  },
  {
   "cell_type": "markdown",
   "metadata": {},
   "source": [
    "The algorithm will start at the centre of each Toronto neighborhood and group FourSquare restaurant data into 1000 meter radius clusters."
   ]
  },
  {
   "cell_type": "markdown",
   "metadata": {},
   "source": [
    "The clusters will be merged or eliminated as the models fits to the parameters"
   ]
  },
  {
   "cell_type": "markdown",
   "metadata": {},
   "source": [
    "## Week 2"
   ]
  },
  {
   "cell_type": "code",
   "execution_count": 1,
   "metadata": {},
   "outputs": [],
   "source": [
    "## TODO"
   ]
  }
 ],
 "metadata": {
  "kernelspec": {
   "display_name": "Python 3",
   "language": "python",
   "name": "python3"
  },
  "language_info": {
   "codemirror_mode": {
    "name": "ipython",
    "version": 3
   },
   "file_extension": ".py",
   "mimetype": "text/x-python",
   "name": "python",
   "nbconvert_exporter": "python",
   "pygments_lexer": "ipython3",
   "version": "3.7.3"
  }
 },
 "nbformat": 4,
 "nbformat_minor": 4
}
